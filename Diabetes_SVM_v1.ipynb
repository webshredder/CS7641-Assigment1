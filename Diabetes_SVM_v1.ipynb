{
  "cells": [
    {
      "cell_type": "markdown",
      "metadata": {
        "id": "view-in-github"
      },
      "source": [
        "<a href=\"https://colab.research.google.com/github/Anny8910/Decision-Tree-Classification-on-Diabetes-Dataset/blob/master/Diabetes_set_(Decision_tree).ipynb\" target=\"_parent\"><img src=\"https://colab.research.google.com/assets/colab-badge.svg\" alt=\"Open In Colab\"/></a>"
      ]
    },
    {
      "cell_type": "code",
      "execution_count": null,
      "metadata": {
        "id": "vU5U2E-eKKdD"
      },
      "outputs": [],
      "source": [
        "#import libraries\n",
        "import pandas as pd\n",
        "import numpy as np\n",
        "from matplotlib import pyplot\n",
        "\n"
      ]
    },
    {
      "cell_type": "code",
      "execution_count": null,
      "metadata": {
        "colab": {
          "base_uri": "https://localhost:8080/",
          "height": 206
        },
        "id": "oYxNkGrTE2lP",
        "outputId": "e6deacac-991e-41ad-bd60-6e2089a2c25c"
      },
      "outputs": [
        {
          "output_type": "execute_result",
          "data": {
            "text/plain": [
              "   Pregnancies  Glucose  BloodPressure  SkinThickness  Insulin   BMI  \\\n",
              "0            6      148             72             35        0  33.6   \n",
              "1            1       85             66             29        0  26.6   \n",
              "2            8      183             64              0        0  23.3   \n",
              "3            1       89             66             23       94  28.1   \n",
              "4            0      137             40             35      168  43.1   \n",
              "\n",
              "   DiabetesPedigreeFunction  Age  Outcome  \n",
              "0                     0.627   50        1  \n",
              "1                     0.351   31        0  \n",
              "2                     0.672   32        1  \n",
              "3                     0.167   21        0  \n",
              "4                     2.288   33        1  "
            ],
            "text/html": [
              "\n",
              "  <div id=\"df-bb8fce0c-c8ac-4af1-a8f3-980104bbeacc\">\n",
              "    <div class=\"colab-df-container\">\n",
              "      <div>\n",
              "<style scoped>\n",
              "    .dataframe tbody tr th:only-of-type {\n",
              "        vertical-align: middle;\n",
              "    }\n",
              "\n",
              "    .dataframe tbody tr th {\n",
              "        vertical-align: top;\n",
              "    }\n",
              "\n",
              "    .dataframe thead th {\n",
              "        text-align: right;\n",
              "    }\n",
              "</style>\n",
              "<table border=\"1\" class=\"dataframe\">\n",
              "  <thead>\n",
              "    <tr style=\"text-align: right;\">\n",
              "      <th></th>\n",
              "      <th>Pregnancies</th>\n",
              "      <th>Glucose</th>\n",
              "      <th>BloodPressure</th>\n",
              "      <th>SkinThickness</th>\n",
              "      <th>Insulin</th>\n",
              "      <th>BMI</th>\n",
              "      <th>DiabetesPedigreeFunction</th>\n",
              "      <th>Age</th>\n",
              "      <th>Outcome</th>\n",
              "    </tr>\n",
              "  </thead>\n",
              "  <tbody>\n",
              "    <tr>\n",
              "      <th>0</th>\n",
              "      <td>6</td>\n",
              "      <td>148</td>\n",
              "      <td>72</td>\n",
              "      <td>35</td>\n",
              "      <td>0</td>\n",
              "      <td>33.6</td>\n",
              "      <td>0.627</td>\n",
              "      <td>50</td>\n",
              "      <td>1</td>\n",
              "    </tr>\n",
              "    <tr>\n",
              "      <th>1</th>\n",
              "      <td>1</td>\n",
              "      <td>85</td>\n",
              "      <td>66</td>\n",
              "      <td>29</td>\n",
              "      <td>0</td>\n",
              "      <td>26.6</td>\n",
              "      <td>0.351</td>\n",
              "      <td>31</td>\n",
              "      <td>0</td>\n",
              "    </tr>\n",
              "    <tr>\n",
              "      <th>2</th>\n",
              "      <td>8</td>\n",
              "      <td>183</td>\n",
              "      <td>64</td>\n",
              "      <td>0</td>\n",
              "      <td>0</td>\n",
              "      <td>23.3</td>\n",
              "      <td>0.672</td>\n",
              "      <td>32</td>\n",
              "      <td>1</td>\n",
              "    </tr>\n",
              "    <tr>\n",
              "      <th>3</th>\n",
              "      <td>1</td>\n",
              "      <td>89</td>\n",
              "      <td>66</td>\n",
              "      <td>23</td>\n",
              "      <td>94</td>\n",
              "      <td>28.1</td>\n",
              "      <td>0.167</td>\n",
              "      <td>21</td>\n",
              "      <td>0</td>\n",
              "    </tr>\n",
              "    <tr>\n",
              "      <th>4</th>\n",
              "      <td>0</td>\n",
              "      <td>137</td>\n",
              "      <td>40</td>\n",
              "      <td>35</td>\n",
              "      <td>168</td>\n",
              "      <td>43.1</td>\n",
              "      <td>2.288</td>\n",
              "      <td>33</td>\n",
              "      <td>1</td>\n",
              "    </tr>\n",
              "  </tbody>\n",
              "</table>\n",
              "</div>\n",
              "      <button class=\"colab-df-convert\" onclick=\"convertToInteractive('df-bb8fce0c-c8ac-4af1-a8f3-980104bbeacc')\"\n",
              "              title=\"Convert this dataframe to an interactive table.\"\n",
              "              style=\"display:none;\">\n",
              "        \n",
              "  <svg xmlns=\"http://www.w3.org/2000/svg\" height=\"24px\"viewBox=\"0 0 24 24\"\n",
              "       width=\"24px\">\n",
              "    <path d=\"M0 0h24v24H0V0z\" fill=\"none\"/>\n",
              "    <path d=\"M18.56 5.44l.94 2.06.94-2.06 2.06-.94-2.06-.94-.94-2.06-.94 2.06-2.06.94zm-11 1L8.5 8.5l.94-2.06 2.06-.94-2.06-.94L8.5 2.5l-.94 2.06-2.06.94zm10 10l.94 2.06.94-2.06 2.06-.94-2.06-.94-.94-2.06-.94 2.06-2.06.94z\"/><path d=\"M17.41 7.96l-1.37-1.37c-.4-.4-.92-.59-1.43-.59-.52 0-1.04.2-1.43.59L10.3 9.45l-7.72 7.72c-.78.78-.78 2.05 0 2.83L4 21.41c.39.39.9.59 1.41.59.51 0 1.02-.2 1.41-.59l7.78-7.78 2.81-2.81c.8-.78.8-2.07 0-2.86zM5.41 20L4 18.59l7.72-7.72 1.47 1.35L5.41 20z\"/>\n",
              "  </svg>\n",
              "      </button>\n",
              "      \n",
              "  <style>\n",
              "    .colab-df-container {\n",
              "      display:flex;\n",
              "      flex-wrap:wrap;\n",
              "      gap: 12px;\n",
              "    }\n",
              "\n",
              "    .colab-df-convert {\n",
              "      background-color: #E8F0FE;\n",
              "      border: none;\n",
              "      border-radius: 50%;\n",
              "      cursor: pointer;\n",
              "      display: none;\n",
              "      fill: #1967D2;\n",
              "      height: 32px;\n",
              "      padding: 0 0 0 0;\n",
              "      width: 32px;\n",
              "    }\n",
              "\n",
              "    .colab-df-convert:hover {\n",
              "      background-color: #E2EBFA;\n",
              "      box-shadow: 0px 1px 2px rgba(60, 64, 67, 0.3), 0px 1px 3px 1px rgba(60, 64, 67, 0.15);\n",
              "      fill: #174EA6;\n",
              "    }\n",
              "\n",
              "    [theme=dark] .colab-df-convert {\n",
              "      background-color: #3B4455;\n",
              "      fill: #D2E3FC;\n",
              "    }\n",
              "\n",
              "    [theme=dark] .colab-df-convert:hover {\n",
              "      background-color: #434B5C;\n",
              "      box-shadow: 0px 1px 3px 1px rgba(0, 0, 0, 0.15);\n",
              "      filter: drop-shadow(0px 1px 2px rgba(0, 0, 0, 0.3));\n",
              "      fill: #FFFFFF;\n",
              "    }\n",
              "  </style>\n",
              "\n",
              "      <script>\n",
              "        const buttonEl =\n",
              "          document.querySelector('#df-bb8fce0c-c8ac-4af1-a8f3-980104bbeacc button.colab-df-convert');\n",
              "        buttonEl.style.display =\n",
              "          google.colab.kernel.accessAllowed ? 'block' : 'none';\n",
              "\n",
              "        async function convertToInteractive(key) {\n",
              "          const element = document.querySelector('#df-bb8fce0c-c8ac-4af1-a8f3-980104bbeacc');\n",
              "          const dataTable =\n",
              "            await google.colab.kernel.invokeFunction('convertToInteractive',\n",
              "                                                     [key], {});\n",
              "          if (!dataTable) return;\n",
              "\n",
              "          const docLinkHtml = 'Like what you see? Visit the ' +\n",
              "            '<a target=\"_blank\" href=https://colab.research.google.com/notebooks/data_table.ipynb>data table notebook</a>'\n",
              "            + ' to learn more about interactive tables.';\n",
              "          element.innerHTML = '';\n",
              "          dataTable['output_type'] = 'display_data';\n",
              "          await google.colab.output.renderOutput(dataTable, element);\n",
              "          const docLink = document.createElement('div');\n",
              "          docLink.innerHTML = docLinkHtml;\n",
              "          element.appendChild(docLink);\n",
              "        }\n",
              "      </script>\n",
              "    </div>\n",
              "  </div>\n",
              "  "
            ]
          },
          "metadata": {},
          "execution_count": 2
        }
      ],
      "source": [
        "url = 'https://raw.githubusercontent.com/webshredder/CS7641-Assigment1/main/diabetes_dataset.csv'\n",
        "df = pd.read_csv(url,on_bad_lines='skip')\n",
        "df.head()"
      ]
    },
    {
      "cell_type": "code",
      "execution_count": null,
      "metadata": {
        "id": "ZHDE7n7fMXF1"
      },
      "outputs": [],
      "source": [
        "#feature variables\n",
        "x=df.drop(['Outcome'], axis=1)\n",
        "#target variable\n",
        "y=df.Outcome"
      ]
    },
    {
      "cell_type": "code",
      "execution_count": null,
      "metadata": {
        "id": "783jd1sHQyP4"
      },
      "outputs": [],
      "source": [
        "# Import \n",
        "from sklearn import metrics #Import scikit-learn metrics module for accuracy calculation\n",
        "from sklearn.model_selection import train_test_split # Import train_test_split function\n",
        "from sklearn.model_selection import cross_val_score\n",
        "from sklearn.metrics import confusion_matrix\n",
        "from sklearn import svm\n"
      ]
    },
    {
      "cell_type": "code",
      "execution_count": null,
      "metadata": {
        "id": "0LDfxBghi2YC"
      },
      "outputs": [],
      "source": [
        "# Split the dataset into training set and test set\n",
        "x_train, x_test, y_train, y_test = train_test_split(x, y, test_size=0.2, random_state=3, stratify=y)"
      ]
    },
    {
      "cell_type": "code",
      "execution_count": null,
      "metadata": {
        "colab": {
          "base_uri": "https://localhost:8080/",
          "height": 1000
        },
        "id": "SbFmwo7ERWG6",
        "outputId": "85c7831e-f9c9-48fc-c41e-fec10e858e5b"
      },
      "outputs": [
        {
          "output_type": "stream",
          "name": "stdout",
          "text": [
            "linear  kernel train acc:  0.7833876221498371  test acc:  0.7337662337662337\n",
            "     confusion matrix: [array([0.56493506, 0.08441558]), array([0.18181818, 0.16883117])]\n",
            "linear  kernel train acc:  0.7801302931596091  test acc:  0.7337662337662337\n",
            "     confusion matrix: [array([0.56493506, 0.08441558]), array([0.18181818, 0.16883117])]\n",
            "linear  kernel train acc:  0.7801302931596091  test acc:  0.7337662337662337\n",
            "     confusion matrix: [array([0.56493506, 0.08441558]), array([0.18181818, 0.16883117])]\n",
            "linear  kernel train acc:  0.7801302931596091  test acc:  0.7337662337662337\n",
            "     confusion matrix: [array([0.56493506, 0.08441558]), array([0.18181818, 0.16883117])]\n",
            "linear  kernel train acc:  0.7785016286644951  test acc:  0.7272727272727273\n",
            "     confusion matrix: [array([0.56493506, 0.08441558]), array([0.18831169, 0.16233766])]\n",
            "linear  kernel train acc:  0.7768729641693811  test acc:  0.7272727272727273\n",
            "     confusion matrix: [array([0.56493506, 0.08441558]), array([0.18831169, 0.16233766])]\n",
            "linear  kernel train acc:  0.7785016286644951  test acc:  0.7272727272727273\n",
            "     confusion matrix: [array([0.56493506, 0.08441558]), array([0.18831169, 0.16233766])]\n",
            "linear  kernel train acc:  0.7736156351791531  test acc:  0.7207792207792207\n",
            "     confusion matrix: [array([0.55844156, 0.09090909]), array([0.18831169, 0.16233766])]\n",
            "linear  kernel train acc:  0.7768729641693811  test acc:  0.7272727272727273\n",
            "     confusion matrix: [array([0.55844156, 0.09090909]), array([0.18181818, 0.16883117])]\n"
          ]
        },
        {
          "output_type": "display_data",
          "data": {
            "text/plain": [
              "<Figure size 432x288 with 1 Axes>"
            ],
            "image/png": "[encoded data removed]"
          },
          "metadata": {
            "needs_background": "light"
          }
        },
        {
          "output_type": "stream",
          "name": "stdout",
          "text": [
            "rbf  kernel train acc:  1.0  test acc:  0.6493506493506493\n",
            "     confusion matrix: [array([0.64935065, 0.        ]), array([0.35064935, 0.        ])]\n",
            "rbf  kernel train acc:  1.0  test acc:  0.6493506493506493\n",
            "     confusion matrix: [array([0.64935065, 0.        ]), array([0.35064935, 0.        ])]\n",
            "rbf  kernel train acc:  0.6514657980456026  test acc:  0.6493506493506493\n",
            "     confusion matrix: [array([0.64935065, 0.        ]), array([0.35064935, 0.        ])]\n",
            "rbf  kernel train acc:  0.6514657980456026  test acc:  0.6493506493506493\n",
            "     confusion matrix: [array([0.64935065, 0.        ]), array([0.35064935, 0.        ])]\n",
            "rbf  kernel train acc:  0.6514657980456026  test acc:  0.6493506493506493\n",
            "     confusion matrix: [array([0.64935065, 0.        ]), array([0.35064935, 0.        ])]\n",
            "rbf  kernel train acc:  0.6514657980456026  test acc:  0.6493506493506493\n",
            "     confusion matrix: [array([0.64935065, 0.        ]), array([0.35064935, 0.        ])]\n",
            "rbf  kernel train acc:  0.6514657980456026  test acc:  0.6493506493506493\n",
            "     confusion matrix: [array([0.64935065, 0.        ]), array([0.35064935, 0.        ])]\n",
            "rbf  kernel train acc:  0.6514657980456026  test acc:  0.6493506493506493\n",
            "     confusion matrix: [array([0.64935065, 0.        ]), array([0.35064935, 0.        ])]\n",
            "rbf  kernel train acc:  0.6514657980456026  test acc:  0.6493506493506493\n",
            "     confusion matrix: [array([0.64935065, 0.        ]), array([0.35064935, 0.        ])]\n"
          ]
        },
        {
          "output_type": "display_data",
          "data": {
            "text/plain": [
              "<Figure size 432x288 with 1 Axes>"
            ],
            "image/png": "[encoded data removed]"
          },
          "metadata": {
            "needs_background": "light"
          }
        }
      ],
      "source": [
        "#Loop through the different kernels\n",
        "kernels = ['linear', 'rbf']\n",
        "Cs = [1, 0.75, 0.5, 0.25, 0.1, 0.05, 0.03, 0.01, 0.004]\n",
        "\n",
        "for mykernel in kernels:\n",
        "   #optional soft margin parameter ; soft margin = 1 means no soft margin.\n",
        "   train_acc=[]\n",
        "   test_acc=[]\n",
        "   train_err=[]\n",
        "   test_err=[]\n",
        "   for i in range(len(Cs)):\n",
        "      #Create SVM classifer object\n",
        "      model = svm.SVC(kernel=mykernel, C=Cs[i], gamma='auto')\n",
        "      # Train SVM Classifer\n",
        "      model = model.fit(x_train,y_train)\n",
        "\n",
        "      #print results\n",
        "      train_acc.append(metrics.accuracy_score(y_train,  model.predict(x_train)))\n",
        "      test_acc.append(metrics.accuracy_score(y_test,  model.predict(x_test)))\n",
        "      train_err.append(1-train_acc[i])\n",
        "      test_err.append(1-test_acc[i])\n",
        "      print(mykernel,\" kernel train acc: \", train_acc[i], \" test acc: \", test_acc[i])\n",
        "      cm=confusion_matrix(y_test, model.predict(x_test))\n",
        "      print(\"     confusion matrix:\", list(cm/cm.sum()))\n",
        "\n",
        "   #plot results\n",
        "   pyplot.plot(Cs, train_err, label='Train')\n",
        "   pyplot.plot(Cs, test_err, label='Test')\n",
        "   pyplot.title('SVM learning curve '+mykernel )\n",
        "   pyplot.ylabel('error')\n",
        "   pyplot.xlabel('C')\n",
        "   pyplot.legend(loc='best')\n",
        "   pyplot.show()\n"
      ]
    }
  ],
  "metadata": {
    "colab": {
      "collapsed_sections": [],
      "provenance": []
    },
    "kernelspec": {
      "display_name": "Python 3",
      "name": "python3"
    }
  },
  "nbformat": 4,
  "nbformat_minor": 0
}