{
  "nbformat": 4,
  "nbformat_minor": 0,
  "metadata": {
    "colab": {
      "provenance": [],
      "collapsed_sections": []
    },
    "kernelspec": {
      "name": "python3",
      "display_name": "Python 3"
    }
  },
  "cells": [
    {
      "cell_type": "markdown",
      "metadata": {
        "id": "view-in-github"
      },
      "source": [
        "<a href=\"https://colab.research.google.com/github/Anny8910/Decision-Tree-Classification-on-Diabetes-Dataset/blob/master/Diabetes_set_(Decision_tree).ipynb\" target=\"_parent\"><img src=\"https://colab.research.google.com/assets/colab-badge.svg\" alt=\"Open In Colab\"/></a>"
      ]
    },
    {
      "cell_type": "code",
      "metadata": {
        "id": "vU5U2E-eKKdD"
      },
      "source": [
        "#import libraries\n",
        "import pandas as pd\n",
        "import numpy as np\n",
        "from matplotlib import pyplot\n",
        "\n"
      ],
      "execution_count": 2,
      "outputs": []
    },
    {
      "cell_type": "code",
      "metadata": {
        "colab": {
          "base_uri": "https://localhost:8080/",
          "height": 206
        },
        "id": "oYxNkGrTE2lP",
        "outputId": "e41ba1bc-b118-4e30-bbaf-43bdb99d5d6b"
      },
      "source": [
        "url = 'https://raw.githubusercontent.com/webshredder/CS7641-Assigment1/main/winequalityN.csv'\n",
        "df = pd.read_csv(url,on_bad_lines='skip')\n",
        "df.head()"
      ],
      "execution_count": 3,
      "outputs": [
        {
          "output_type": "execute_result",
          "data": {
            "text/plain": [
              "   type  fixed acidity  volatile acidity  citric acid  residual sugar  \\\n",
              "0     1            7.0              0.27         0.36            20.7   \n",
              "1     1            6.3              0.30         0.34             1.6   \n",
              "2     1            8.1              0.28         0.40             6.9   \n",
              "3     1            7.2              0.23         0.32             8.5   \n",
              "4     1            7.2              0.23         0.32             8.5   \n",
              "\n",
              "   chlorides  free sulfur dioxide  total sulfur dioxide  density    pH  \\\n",
              "0      0.045                 45.0                 170.0   1.0010  3.00   \n",
              "1      0.049                 14.0                 132.0   0.9940  3.30   \n",
              "2      0.050                 30.0                  97.0   0.9951  3.26   \n",
              "3      0.058                 47.0                 186.0   0.9956  3.19   \n",
              "4      0.058                 47.0                 186.0   0.9956  3.19   \n",
              "\n",
              "   sulphates  alcohol  quality  \n",
              "0       0.45      8.8        6  \n",
              "1       0.49      9.5        6  \n",
              "2       0.44     10.1        6  \n",
              "3       0.40      9.9        6  \n",
              "4       0.40      9.9        6  "
            ],
            "text/html": [
              "\n",
              "  <div id=\"df-8a69758b-079c-444c-aef7-f21d0c428d55\">\n",
              "    <div class=\"colab-df-container\">\n",
              "      <div>\n",
              "<style scoped>\n",
              "    .dataframe tbody tr th:only-of-type {\n",
              "        vertical-align: middle;\n",
              "    }\n",
              "\n",
              "    .dataframe tbody tr th {\n",
              "        vertical-align: top;\n",
              "    }\n",
              "\n",
              "    .dataframe thead th {\n",
              "        text-align: right;\n",
              "    }\n",
              "</style>\n",
              "<table border=\"1\" class=\"dataframe\">\n",
              "  <thead>\n",
              "    <tr style=\"text-align: right;\">\n",
              "      <th></th>\n",
              "      <th>type</th>\n",
              "      <th>fixed acidity</th>\n",
              "      <th>volatile acidity</th>\n",
              "      <th>citric acid</th>\n",
              "      <th>residual sugar</th>\n",
              "      <th>chlorides</th>\n",
              "      <th>free sulfur dioxide</th>\n",
              "      <th>total sulfur dioxide</th>\n",
              "      <th>density</th>\n",
              "      <th>pH</th>\n",
              "      <th>sulphates</th>\n",
              "      <th>alcohol</th>\n",
              "      <th>quality</th>\n",
              "    </tr>\n",
              "  </thead>\n",
              "  <tbody>\n",
              "    <tr>\n",
              "      <th>0</th>\n",
              "      <td>1</td>\n",
              "      <td>7.0</td>\n",
              "      <td>0.27</td>\n",
              "      <td>0.36</td>\n",
              "      <td>20.7</td>\n",
              "      <td>0.045</td>\n",
              "      <td>45.0</td>\n",
              "      <td>170.0</td>\n",
              "      <td>1.0010</td>\n",
              "      <td>3.00</td>\n",
              "      <td>0.45</td>\n",
              "      <td>8.8</td>\n",
              "      <td>6</td>\n",
              "    </tr>\n",
              "    <tr>\n",
              "      <th>1</th>\n",
              "      <td>1</td>\n",
              "      <td>6.3</td>\n",
              "      <td>0.30</td>\n",
              "      <td>0.34</td>\n",
              "      <td>1.6</td>\n",
              "      <td>0.049</td>\n",
              "      <td>14.0</td>\n",
              "      <td>132.0</td>\n",
              "      <td>0.9940</td>\n",
              "      <td>3.30</td>\n",
              "      <td>0.49</td>\n",
              "      <td>9.5</td>\n",
              "      <td>6</td>\n",
              "    </tr>\n",
              "    <tr>\n",
              "      <th>2</th>\n",
              "      <td>1</td>\n",
              "      <td>8.1</td>\n",
              "      <td>0.28</td>\n",
              "      <td>0.40</td>\n",
              "      <td>6.9</td>\n",
              "      <td>0.050</td>\n",
              "      <td>30.0</td>\n",
              "      <td>97.0</td>\n",
              "      <td>0.9951</td>\n",
              "      <td>3.26</td>\n",
              "      <td>0.44</td>\n",
              "      <td>10.1</td>\n",
              "      <td>6</td>\n",
              "    </tr>\n",
              "    <tr>\n",
              "      <th>3</th>\n",
              "      <td>1</td>\n",
              "      <td>7.2</td>\n",
              "      <td>0.23</td>\n",
              "      <td>0.32</td>\n",
              "      <td>8.5</td>\n",
              "      <td>0.058</td>\n",
              "      <td>47.0</td>\n",
              "      <td>186.0</td>\n",
              "      <td>0.9956</td>\n",
              "      <td>3.19</td>\n",
              "      <td>0.40</td>\n",
              "      <td>9.9</td>\n",
              "      <td>6</td>\n",
              "    </tr>\n",
              "    <tr>\n",
              "      <th>4</th>\n",
              "      <td>1</td>\n",
              "      <td>7.2</td>\n",
              "      <td>0.23</td>\n",
              "      <td>0.32</td>\n",
              "      <td>8.5</td>\n",
              "      <td>0.058</td>\n",
              "      <td>47.0</td>\n",
              "      <td>186.0</td>\n",
              "      <td>0.9956</td>\n",
              "      <td>3.19</td>\n",
              "      <td>0.40</td>\n",
              "      <td>9.9</td>\n",
              "      <td>6</td>\n",
              "    </tr>\n",
              "  </tbody>\n",
              "</table>\n",
              "</div>\n",
              "      <button class=\"colab-df-convert\" onclick=\"convertToInteractive('df-8a69758b-079c-444c-aef7-f21d0c428d55')\"\n",
              "              title=\"Convert this dataframe to an interactive table.\"\n",
              "              style=\"display:none;\">\n",
              "        \n",
              "  <svg xmlns=\"http://www.w3.org/2000/svg\" height=\"24px\"viewBox=\"0 0 24 24\"\n",
              "       width=\"24px\">\n",
              "    <path d=\"M0 0h24v24H0V0z\" fill=\"none\"/>\n",
              "    <path d=\"M18.56 5.44l.94 2.06.94-2.06 2.06-.94-2.06-.94-.94-2.06-.94 2.06-2.06.94zm-11 1L8.5 8.5l.94-2.06 2.06-.94-2.06-.94L8.5 2.5l-.94 2.06-2.06.94zm10 10l.94 2.06.94-2.06 2.06-.94-2.06-.94-.94-2.06-.94 2.06-2.06.94z\"/><path d=\"M17.41 7.96l-1.37-1.37c-.4-.4-.92-.59-1.43-.59-.52 0-1.04.2-1.43.59L10.3 9.45l-7.72 7.72c-.78.78-.78 2.05 0 2.83L4 21.41c.39.39.9.59 1.41.59.51 0 1.02-.2 1.41-.59l7.78-7.78 2.81-2.81c.8-.78.8-2.07 0-2.86zM5.41 20L4 18.59l7.72-7.72 1.47 1.35L5.41 20z\"/>\n",
              "  </svg>\n",
              "      </button>\n",
              "      \n",
              "  <style>\n",
              "    .colab-df-container {\n",
              "      display:flex;\n",
              "      flex-wrap:wrap;\n",
              "      gap: 12px;\n",
              "    }\n",
              "\n",
              "    .colab-df-convert {\n",
              "      background-color: #E8F0FE;\n",
              "      border: none;\n",
              "      border-radius: 50%;\n",
              "      cursor: pointer;\n",
              "      display: none;\n",
              "      fill: #1967D2;\n",
              "      height: 32px;\n",
              "      padding: 0 0 0 0;\n",
              "      width: 32px;\n",
              "    }\n",
              "\n",
              "    .colab-df-convert:hover {\n",
              "      background-color: #E2EBFA;\n",
              "      box-shadow: 0px 1px 2px rgba(60, 64, 67, 0.3), 0px 1px 3px 1px rgba(60, 64, 67, 0.15);\n",
              "      fill: #174EA6;\n",
              "    }\n",
              "\n",
              "    [theme=dark] .colab-df-convert {\n",
              "      background-color: #3B4455;\n",
              "      fill: #D2E3FC;\n",
              "    }\n",
              "\n",
              "    [theme=dark] .colab-df-convert:hover {\n",
              "      background-color: #434B5C;\n",
              "      box-shadow: 0px 1px 3px 1px rgba(0, 0, 0, 0.15);\n",
              "      filter: drop-shadow(0px 1px 2px rgba(0, 0, 0, 0.3));\n",
              "      fill: #FFFFFF;\n",
              "    }\n",
              "  </style>\n",
              "\n",
              "      <script>\n",
              "        const buttonEl =\n",
              "          document.querySelector('#df-8a69758b-079c-444c-aef7-f21d0c428d55 button.colab-df-convert');\n",
              "        buttonEl.style.display =\n",
              "          google.colab.kernel.accessAllowed ? 'block' : 'none';\n",
              "\n",
              "        async function convertToInteractive(key) {\n",
              "          const element = document.querySelector('#df-8a69758b-079c-444c-aef7-f21d0c428d55');\n",
              "          const dataTable =\n",
              "            await google.colab.kernel.invokeFunction('convertToInteractive',\n",
              "                                                     [key], {});\n",
              "          if (!dataTable) return;\n",
              "\n",
              "          const docLinkHtml = 'Like what you see? Visit the ' +\n",
              "            '<a target=\"_blank\" href=https://colab.research.google.com/notebooks/data_table.ipynb>data table notebook</a>'\n",
              "            + ' to learn more about interactive tables.';\n",
              "          element.innerHTML = '';\n",
              "          dataTable['output_type'] = 'display_data';\n",
              "          await google.colab.output.renderOutput(dataTable, element);\n",
              "          const docLink = document.createElement('div');\n",
              "          docLink.innerHTML = docLinkHtml;\n",
              "          element.appendChild(docLink);\n",
              "        }\n",
              "      </script>\n",
              "    </div>\n",
              "  </div>\n",
              "  "
            ]
          },
          "metadata": {},
          "execution_count": 3
        }
      ]
    },
    {
      "cell_type": "code",
      "metadata": {
        "id": "ZHDE7n7fMXF1"
      },
      "source": [
        "#feature variables\n",
        "x=df.drop(['quality'], axis=1)\n",
        "#target variable\n",
        "y=df.quality"
      ],
      "execution_count": 4,
      "outputs": []
    },
    {
      "cell_type": "code",
      "metadata": {
        "id": "783jd1sHQyP4"
      },
      "source": [
        "# Import \n",
        "from sklearn import metrics #Import scikit-learn metrics module for accuracy calculation\n",
        "from sklearn.model_selection import train_test_split # Import train_test_split function\n",
        "from sklearn.model_selection import cross_val_score\n",
        "from sklearn.metrics import confusion_matrix\n",
        "from sklearn import svm\n"
      ],
      "execution_count": 5,
      "outputs": []
    },
    {
      "cell_type": "code",
      "metadata": {
        "id": "0LDfxBghi2YC"
      },
      "source": [
        "# Split the dataset into training set and test set\n",
        "x_train, x_test, y_train, y_test = train_test_split(x, y, test_size=0.2, random_state=3, stratify=y)"
      ],
      "execution_count": 6,
      "outputs": []
    },
    {
      "cell_type": "code",
      "metadata": {
        "id": "SbFmwo7ERWG6",
        "colab": {
          "base_uri": "https://localhost:8080/",
          "height": 1000
        },
        "outputId": "58c8316f-b6b6-4697-c61f-0996bdcc42bd"
      },
      "source": [
        "#Loop through the different kernels\n",
        "kernels = ['linear', 'rbf', 'poly']\n",
        "Cs = [1, 0.75, 0.5, 0.25, 0.1, 0.07, 0.05, 0.03, 0.01, 0.004]\n",
        "\n",
        "for mykernel in kernels:\n",
        "   #optional soft margin parameter ; soft margin = 1 means no soft margin.\n",
        "   train_acc=[]\n",
        "   test_acc=[]\n",
        "   train_err=[]\n",
        "   test_err=[]\n",
        "   for i in range(len(Cs)):\n",
        "      #Create SVM classifer object\n",
        "      model = svm.SVC(kernel=mykernel, decision_function_shape='ovo', C=Cs[i])\n",
        "      # Train SVM Classifer\n",
        "      model = model.fit(x_train,y_train)\n",
        "\n",
        "      #print results\n",
        "      train_acc.append(metrics.accuracy_score(y_train,  model.predict(x_train)))\n",
        "      test_acc.append(metrics.accuracy_score(y_test,  model.predict(x_test)))\n",
        "      train_err.append(1-train_acc[i])\n",
        "      test_err.append(1-test_acc[i])\n",
        "      print(mykernel,\" kernel train acc: \", train_acc[i], \" test acc: \", test_acc[i])\n",
        "\n",
        "   #plot results\n",
        "   pyplot.plot(Cs, train_err, label='Train')\n",
        "   pyplot.plot(Cs, test_err, label='Test')\n",
        "   pyplot.title('SVM learning curve '+mykernel )\n",
        "   pyplot.ylabel('error')\n",
        "   pyplot.xlabel('C')\n",
        "   pyplot.legend(loc='best')\n",
        "   pyplot.show()\n"
      ],
      "execution_count": 7,
      "outputs": [
        {
          "output_type": "stream",
          "name": "stdout",
          "text": [
            "linear  kernel train acc:  0.5359907120743034  test acc:  0.539829853054911\n",
            "linear  kernel train acc:  0.5359907120743034  test acc:  0.5421500386697602\n",
            "linear  kernel train acc:  0.5381191950464397  test acc:  0.5436968290796597\n",
            "linear  kernel train acc:  0.5359907120743034  test acc:  0.5413766434648105\n",
            "linear  kernel train acc:  0.5361842105263158  test acc:  0.5367362722351121\n",
            "linear  kernel train acc:  0.5356037151702786  test acc:  0.5359628770301624\n",
            "linear  kernel train acc:  0.5325077399380805  test acc:  0.5320959010054138\n",
            "linear  kernel train acc:  0.5319272445820433  test acc:  0.5282289249806651\n",
            "linear  kernel train acc:  0.5224458204334366  test acc:  0.5174013921113689\n",
            "linear  kernel train acc:  0.5178018575851393  test acc:  0.5189481825212684\n"
          ]
        },
        {
          "output_type": "display_data",
          "data": {
            "text/plain": [
              "<Figure size 432x288 with 1 Axes>"
            ],
            "image/png": "[encoded data removed]"
          },
          "metadata": {
            "needs_background": "light"
          }
        },
        {
          "output_type": "stream",
          "name": "stdout",
          "text": [
            "rbf  kernel train acc:  0.44040247678018574  test acc:  0.43464810518174785\n",
            "rbf  kernel train acc:  0.44001547987616096  test acc:  0.4354215003866976\n",
            "rbf  kernel train acc:  0.43808049535603716  test acc:  0.4377416860015468\n",
            "rbf  kernel train acc:  0.43653250773993807  test acc:  0.4354215003866976\n",
            "rbf  kernel train acc:  0.43653250773993807  test acc:  0.4361948955916473\n",
            "rbf  kernel train acc:  0.43653250773993807  test acc:  0.4361948955916473\n",
            "rbf  kernel train acc:  0.43653250773993807  test acc:  0.4361948955916473\n",
            "rbf  kernel train acc:  0.43653250773993807  test acc:  0.4361948955916473\n",
            "rbf  kernel train acc:  0.43653250773993807  test acc:  0.4361948955916473\n",
            "rbf  kernel train acc:  0.43653250773993807  test acc:  0.4361948955916473\n"
          ]
        },
        {
          "output_type": "display_data",
          "data": {
            "text/plain": [
              "<Figure size 432x288 with 1 Axes>"
            ],
            "image/png": "[encoded data removed]"
          },
          "metadata": {
            "needs_background": "light"
          }
        },
        {
          "output_type": "stream",
          "name": "stdout",
          "text": [
            "poly  kernel train acc:  0.44020897832817335  test acc:  0.43696829079659705\n",
            "poly  kernel train acc:  0.44001547987616096  test acc:  0.43464810518174785\n",
            "poly  kernel train acc:  0.43962848297213625  test acc:  0.43696829079659705\n",
            "poly  kernel train acc:  0.4361455108359133  test acc:  0.4385150812064965\n",
            "poly  kernel train acc:  0.4373065015479876  test acc:  0.4361948955916473\n",
            "poly  kernel train acc:  0.4371130030959752  test acc:  0.4361948955916473\n",
            "poly  kernel train acc:  0.43691950464396284  test acc:  0.4361948955916473\n",
            "poly  kernel train acc:  0.43691950464396284  test acc:  0.4361948955916473\n",
            "poly  kernel train acc:  0.43672600619195046  test acc:  0.4361948955916473\n",
            "poly  kernel train acc:  0.43672600619195046  test acc:  0.4361948955916473\n"
          ]
        },
        {
          "output_type": "display_data",
          "data": {
            "text/plain": [
              "<Figure size 432x288 with 1 Axes>"
            ],
            "image/png": "[encoded data removed]"
          },
          "metadata": {
            "needs_background": "light"
          }
        }
      ]
    }
  ]
}