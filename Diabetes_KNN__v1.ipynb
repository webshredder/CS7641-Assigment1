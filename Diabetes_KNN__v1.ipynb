{
  "nbformat": 4,
  "nbformat_minor": 0,
  "metadata": {
    "colab": {
      "provenance": [],
      "collapsed_sections": []
    },
    "kernelspec": {
      "name": "python3",
      "display_name": "Python 3"
    }
  },
  "cells": [
    {
      "cell_type": "markdown",
      "metadata": {
        "id": "view-in-github"
      },
      "source": [
        "<a href=\"https://colab.research.google.com/github/Anny8910/Decision-Tree-Classification-on-Diabetes-Dataset/blob/master/Diabetes_set_(Decision_tree).ipynb\" target=\"_parent\"><img src=\"https://colab.research.google.com/assets/colab-badge.svg\" alt=\"Open In Colab\"/></a>"
      ]
    },
    {
      "cell_type": "code",
      "metadata": {
        "id": "vU5U2E-eKKdD"
      },
      "source": [
        "#import libraries\n",
        "import pandas as pd\n",
        "import numpy as np\n",
        "from matplotlib import pyplot\n"
      ],
      "execution_count": 1,
      "outputs": []
    },
    {
      "cell_type": "code",
      "metadata": {
        "colab": {
          "base_uri": "https://localhost:8080/",
          "height": 206
        },
        "id": "oYxNkGrTE2lP",
        "outputId": "5028afcb-1be8-49cc-f849-ef286b18b90b"
      },
      "source": [
        "url = 'https://raw.githubusercontent.com/webshredder/CS7641-Assigment1/main/diabetes_dataset.csv'\n",
        "df = pd.read_csv(url,on_bad_lines='skip')\n",
        "df.head()"
      ],
      "execution_count": 2,
      "outputs": [
        {
          "output_type": "execute_result",
          "data": {
            "text/plain": [
              "   Pregnancies  Glucose  BloodPressure  SkinThickness  Insulin   BMI  \\\n",
              "0            6      148             72             35        0  33.6   \n",
              "1            1       85             66             29        0  26.6   \n",
              "2            8      183             64              0        0  23.3   \n",
              "3            1       89             66             23       94  28.1   \n",
              "4            0      137             40             35      168  43.1   \n",
              "\n",
              "   DiabetesPedigreeFunction  Age  Outcome  \n",
              "0                     0.627   50        1  \n",
              "1                     0.351   31        0  \n",
              "2                     0.672   32        1  \n",
              "3                     0.167   21        0  \n",
              "4                     2.288   33        1  "
            ],
            "text/html": [
              "\n",
              "  <div id=\"df-918bcd55-a98b-46d8-be73-e7aa22e2cbf5\">\n",
              "    <div class=\"colab-df-container\">\n",
              "      <div>\n",
              "<style scoped>\n",
              "    .dataframe tbody tr th:only-of-type {\n",
              "        vertical-align: middle;\n",
              "    }\n",
              "\n",
              "    .dataframe tbody tr th {\n",
              "        vertical-align: top;\n",
              "    }\n",
              "\n",
              "    .dataframe thead th {\n",
              "        text-align: right;\n",
              "    }\n",
              "</style>\n",
              "<table border=\"1\" class=\"dataframe\">\n",
              "  <thead>\n",
              "    <tr style=\"text-align: right;\">\n",
              "      <th></th>\n",
              "      <th>Pregnancies</th>\n",
              "      <th>Glucose</th>\n",
              "      <th>BloodPressure</th>\n",
              "      <th>SkinThickness</th>\n",
              "      <th>Insulin</th>\n",
              "      <th>BMI</th>\n",
              "      <th>DiabetesPedigreeFunction</th>\n",
              "      <th>Age</th>\n",
              "      <th>Outcome</th>\n",
              "    </tr>\n",
              "  </thead>\n",
              "  <tbody>\n",
              "    <tr>\n",
              "      <th>0</th>\n",
              "      <td>6</td>\n",
              "      <td>148</td>\n",
              "      <td>72</td>\n",
              "      <td>35</td>\n",
              "      <td>0</td>\n",
              "      <td>33.6</td>\n",
              "      <td>0.627</td>\n",
              "      <td>50</td>\n",
              "      <td>1</td>\n",
              "    </tr>\n",
              "    <tr>\n",
              "      <th>1</th>\n",
              "      <td>1</td>\n",
              "      <td>85</td>\n",
              "      <td>66</td>\n",
              "      <td>29</td>\n",
              "      <td>0</td>\n",
              "      <td>26.6</td>\n",
              "      <td>0.351</td>\n",
              "      <td>31</td>\n",
              "      <td>0</td>\n",
              "    </tr>\n",
              "    <tr>\n",
              "      <th>2</th>\n",
              "      <td>8</td>\n",
              "      <td>183</td>\n",
              "      <td>64</td>\n",
              "      <td>0</td>\n",
              "      <td>0</td>\n",
              "      <td>23.3</td>\n",
              "      <td>0.672</td>\n",
              "      <td>32</td>\n",
              "      <td>1</td>\n",
              "    </tr>\n",
              "    <tr>\n",
              "      <th>3</th>\n",
              "      <td>1</td>\n",
              "      <td>89</td>\n",
              "      <td>66</td>\n",
              "      <td>23</td>\n",
              "      <td>94</td>\n",
              "      <td>28.1</td>\n",
              "      <td>0.167</td>\n",
              "      <td>21</td>\n",
              "      <td>0</td>\n",
              "    </tr>\n",
              "    <tr>\n",
              "      <th>4</th>\n",
              "      <td>0</td>\n",
              "      <td>137</td>\n",
              "      <td>40</td>\n",
              "      <td>35</td>\n",
              "      <td>168</td>\n",
              "      <td>43.1</td>\n",
              "      <td>2.288</td>\n",
              "      <td>33</td>\n",
              "      <td>1</td>\n",
              "    </tr>\n",
              "  </tbody>\n",
              "</table>\n",
              "</div>\n",
              "      <button class=\"colab-df-convert\" onclick=\"convertToInteractive('df-918bcd55-a98b-46d8-be73-e7aa22e2cbf5')\"\n",
              "              title=\"Convert this dataframe to an interactive table.\"\n",
              "              style=\"display:none;\">\n",
              "        \n",
              "  <svg xmlns=\"http://www.w3.org/2000/svg\" height=\"24px\"viewBox=\"0 0 24 24\"\n",
              "       width=\"24px\">\n",
              "    <path d=\"M0 0h24v24H0V0z\" fill=\"none\"/>\n",
              "    <path d=\"M18.56 5.44l.94 2.06.94-2.06 2.06-.94-2.06-.94-.94-2.06-.94 2.06-2.06.94zm-11 1L8.5 8.5l.94-2.06 2.06-.94-2.06-.94L8.5 2.5l-.94 2.06-2.06.94zm10 10l.94 2.06.94-2.06 2.06-.94-2.06-.94-.94-2.06-.94 2.06-2.06.94z\"/><path d=\"M17.41 7.96l-1.37-1.37c-.4-.4-.92-.59-1.43-.59-.52 0-1.04.2-1.43.59L10.3 9.45l-7.72 7.72c-.78.78-.78 2.05 0 2.83L4 21.41c.39.39.9.59 1.41.59.51 0 1.02-.2 1.41-.59l7.78-7.78 2.81-2.81c.8-.78.8-2.07 0-2.86zM5.41 20L4 18.59l7.72-7.72 1.47 1.35L5.41 20z\"/>\n",
              "  </svg>\n",
              "      </button>\n",
              "      \n",
              "  <style>\n",
              "    .colab-df-container {\n",
              "      display:flex;\n",
              "      flex-wrap:wrap;\n",
              "      gap: 12px;\n",
              "    }\n",
              "\n",
              "    .colab-df-convert {\n",
              "      background-color: #E8F0FE;\n",
              "      border: none;\n",
              "      border-radius: 50%;\n",
              "      cursor: pointer;\n",
              "      display: none;\n",
              "      fill: #1967D2;\n",
              "      height: 32px;\n",
              "      padding: 0 0 0 0;\n",
              "      width: 32px;\n",
              "    }\n",
              "\n",
              "    .colab-df-convert:hover {\n",
              "      background-color: #E2EBFA;\n",
              "      box-shadow: 0px 1px 2px rgba(60, 64, 67, 0.3), 0px 1px 3px 1px rgba(60, 64, 67, 0.15);\n",
              "      fill: #174EA6;\n",
              "    }\n",
              "\n",
              "    [theme=dark] .colab-df-convert {\n",
              "      background-color: #3B4455;\n",
              "      fill: #D2E3FC;\n",
              "    }\n",
              "\n",
              "    [theme=dark] .colab-df-convert:hover {\n",
              "      background-color: #434B5C;\n",
              "      box-shadow: 0px 1px 3px 1px rgba(0, 0, 0, 0.15);\n",
              "      filter: drop-shadow(0px 1px 2px rgba(0, 0, 0, 0.3));\n",
              "      fill: #FFFFFF;\n",
              "    }\n",
              "  </style>\n",
              "\n",
              "      <script>\n",
              "        const buttonEl =\n",
              "          document.querySelector('#df-918bcd55-a98b-46d8-be73-e7aa22e2cbf5 button.colab-df-convert');\n",
              "        buttonEl.style.display =\n",
              "          google.colab.kernel.accessAllowed ? 'block' : 'none';\n",
              "\n",
              "        async function convertToInteractive(key) {\n",
              "          const element = document.querySelector('#df-918bcd55-a98b-46d8-be73-e7aa22e2cbf5');\n",
              "          const dataTable =\n",
              "            await google.colab.kernel.invokeFunction('convertToInteractive',\n",
              "                                                     [key], {});\n",
              "          if (!dataTable) return;\n",
              "\n",
              "          const docLinkHtml = 'Like what you see? Visit the ' +\n",
              "            '<a target=\"_blank\" href=https://colab.research.google.com/notebooks/data_table.ipynb>data table notebook</a>'\n",
              "            + ' to learn more about interactive tables.';\n",
              "          element.innerHTML = '';\n",
              "          dataTable['output_type'] = 'display_data';\n",
              "          await google.colab.output.renderOutput(dataTable, element);\n",
              "          const docLink = document.createElement('div');\n",
              "          docLink.innerHTML = docLinkHtml;\n",
              "          element.appendChild(docLink);\n",
              "        }\n",
              "      </script>\n",
              "    </div>\n",
              "  </div>\n",
              "  "
            ]
          },
          "metadata": {},
          "execution_count": 2
        }
      ]
    },
    {
      "cell_type": "code",
      "metadata": {
        "id": "ZHDE7n7fMXF1"
      },
      "source": [
        "#feature variables\n",
        "x=df.drop(['Outcome'], axis=1)\n",
        "#target variable\n",
        "y=df.Outcome"
      ],
      "execution_count": 3,
      "outputs": []
    },
    {
      "cell_type": "code",
      "metadata": {
        "id": "783jd1sHQyP4"
      },
      "source": [
        "# Import \n",
        "from sklearn import metrics #Import scikit-learn metrics module for accuracy calculation\n",
        "from sklearn.model_selection import train_test_split # Import train_test_split function\n",
        "from sklearn.model_selection import cross_val_score\n",
        "from sklearn.preprocessing import StandardScaler\n",
        "from sklearn.metrics import confusion_matrix\n",
        "from sklearn.neighbors import KNeighborsClassifier\n"
      ],
      "execution_count": 4,
      "outputs": []
    },
    {
      "cell_type": "code",
      "metadata": {
        "id": "0LDfxBghi2YC"
      },
      "source": [
        "# Normalize the data and split into train/test sets\n",
        "sc = StandardScaler()\n",
        "xt = sc.fit_transform(x)\n",
        "x_train, x_test, y_train, y_test = train_test_split(xt, y, test_size=0.2, random_state=11, stratify=y)\n"
      ],
      "execution_count": 24,
      "outputs": []
    },
    {
      "cell_type": "code",
      "metadata": {
        "id": "SbFmwo7ERWG6",
        "colab": {
          "base_uri": "https://localhost:8080/"
        },
        "outputId": "6843513e-4c16-4c88-f3a7-69f8319a9614"
      },
      "source": [
        "#Loop through k\n",
        "\n",
        "tp, tn, fp, fn =[], [], [], []\n",
        "accuracy = []\n",
        "err = []\n",
        "knn = range(1, 40)\n",
        "\n",
        "for k in knn:\n",
        "      #Create kNN classifer object that votes\n",
        "      model = KNeighborsClassifier(n_neighbors=k)\n",
        "      # fit kNN classifer - \"fit\" here means to memorize the data since kNN is a lazy learner\n",
        "      model = model.fit(x_train,y_train)\n",
        "\n",
        "      #print results\n",
        "      acc = metrics.accuracy_score(y_test,  model.predict(x_test))\n",
        "      accuracy.append(acc)\n",
        "      err.append(1-acc)\n",
        "      cm = confusion_matrix(y_test,  model.predict(x_test))\n",
        "      print(list(cm/cm.sum()))\n",
        "\n",
        "\n",
        "\n"
      ],
      "execution_count": 25,
      "outputs": [
        {
          "output_type": "stream",
          "name": "stdout",
          "text": [
            "[array([0.50649351, 0.14285714]), array([0.18181818, 0.16883117])]\n",
            "[array([0.56493506, 0.08441558]), array([0.24675325, 0.1038961 ])]\n",
            "[array([0.52597403, 0.12337662]), array([0.15584416, 0.19480519])]\n",
            "[array([0.57792208, 0.07142857]), array([0.22727273, 0.12337662])]\n",
            "[array([0.53246753, 0.11688312]), array([0.14935065, 0.2012987 ])]\n",
            "[array([0.57142857, 0.07792208]), array([0.2012987 , 0.14935065])]\n",
            "[array([0.53896104, 0.11038961]), array([0.16233766, 0.18831169])]\n",
            "[array([0.56493506, 0.08441558]), array([0.18831169, 0.16233766])]\n",
            "[array([0.55844156, 0.09090909]), array([0.15584416, 0.19480519])]\n",
            "[array([0.58441558, 0.06493506]), array([0.18831169, 0.16233766])]\n",
            "[array([0.57142857, 0.07792208]), array([0.16233766, 0.18831169])]\n",
            "[array([0.57792208, 0.07142857]), array([0.2012987 , 0.14935065])]\n",
            "[array([0.57142857, 0.07792208]), array([0.16233766, 0.18831169])]\n",
            "[array([0.59090909, 0.05844156]), array([0.17532468, 0.17532468])]\n",
            "[array([0.57792208, 0.07142857]), array([0.16883117, 0.18181818])]\n",
            "[array([0.59090909, 0.05844156]), array([0.18831169, 0.16233766])]\n",
            "[array([0.59090909, 0.05844156]), array([0.16883117, 0.18181818])]\n",
            "[array([0.6038961 , 0.04545455]), array([0.17532468, 0.17532468])]\n",
            "[array([0.59090909, 0.05844156]), array([0.15584416, 0.19480519])]\n",
            "[array([0.5974026 , 0.05194805]), array([0.18181818, 0.16883117])]\n",
            "[array([0.5974026 , 0.05194805]), array([0.16233766, 0.18831169])]\n",
            "[array([0.5974026 , 0.05194805]), array([0.18831169, 0.16233766])]\n",
            "[array([0.5974026 , 0.05194805]), array([0.16233766, 0.18831169])]\n",
            "[array([0.5974026 , 0.05194805]), array([0.17532468, 0.17532468])]\n",
            "[array([0.5974026 , 0.05194805]), array([0.17532468, 0.17532468])]\n",
            "[array([0.5974026 , 0.05194805]), array([0.19480519, 0.15584416])]\n",
            "[array([0.59090909, 0.05844156]), array([0.18181818, 0.16883117])]\n",
            "[array([0.5974026 , 0.05194805]), array([0.19480519, 0.15584416])]\n",
            "[array([0.59090909, 0.05844156]), array([0.17532468, 0.17532468])]\n",
            "[array([0.5974026 , 0.05194805]), array([0.19480519, 0.15584416])]\n",
            "[array([0.5974026 , 0.05194805]), array([0.19480519, 0.15584416])]\n",
            "[array([0.5974026 , 0.05194805]), array([0.20779221, 0.14285714])]\n",
            "[array([0.5974026 , 0.05194805]), array([0.19480519, 0.15584416])]\n",
            "[array([0.5974026 , 0.05194805]), array([0.20779221, 0.14285714])]\n",
            "[array([0.5974026 , 0.05194805]), array([0.19480519, 0.15584416])]\n",
            "[array([0.5974026 , 0.05194805]), array([0.20779221, 0.14285714])]\n",
            "[array([0.5974026 , 0.05194805]), array([0.19480519, 0.15584416])]\n",
            "[array([0.5974026 , 0.05194805]), array([0.21428571, 0.13636364])]\n",
            "[array([0.5974026 , 0.05194805]), array([0.19480519, 0.15584416])]\n"
          ]
        }
      ]
    },
    {
      "cell_type": "code",
      "metadata": {
        "colab": {
          "base_uri": "https://localhost:8080/"
        },
        "id": "vPepCTba96RX",
        "outputId": "ccbe3558-dd4e-4982-9354-d4f883e15148"
      },
      "source": [
        "tp, tn, fp, fn =[], [], [], []\n",
        "dw_accuracy = []\n",
        "dw_err = []\n",
        "knn = range(1, 40)\n",
        "\n",
        "for k in knn:\n",
        "      #Create kNN classifer object that votes\n",
        "      model = KNeighborsClassifier(n_neighbors=k, weights='distance')\n",
        "      # fit kNN classifer - \"fit\" here means to memorize the data since kNN is a lazy learner\n",
        "      model = model.fit(x_train,y_train)\n",
        "\n",
        "      #print results\n",
        "      acc = metrics.accuracy_score(y_test,  model.predict(x_test))\n",
        "      dw_accuracy.append(acc)\n",
        "      dw_err.append(1-acc)\n",
        "      cm = confusion_matrix(y_test,  model.predict(x_test))\n",
        "      print(list(cm/cm.sum()))\n",
        "\n",
        "\n"
      ],
      "execution_count": 26,
      "outputs": [
        {
          "output_type": "stream",
          "name": "stdout",
          "text": [
            "[array([0.50649351, 0.14285714]), array([0.18181818, 0.16883117])]\n",
            "[array([0.50649351, 0.14285714]), array([0.18181818, 0.16883117])]\n",
            "[array([0.52597403, 0.12337662]), array([0.15584416, 0.19480519])]\n",
            "[array([0.53246753, 0.11688312]), array([0.15584416, 0.19480519])]\n",
            "[array([0.52597403, 0.12337662]), array([0.15584416, 0.19480519])]\n",
            "[array([0.53246753, 0.11688312]), array([0.14935065, 0.2012987 ])]\n",
            "[array([0.53896104, 0.11038961]), array([0.16233766, 0.18831169])]\n",
            "[array([0.53896104, 0.11038961]), array([0.15584416, 0.19480519])]\n",
            "[array([0.55194805, 0.0974026 ]), array([0.15584416, 0.19480519])]\n",
            "[array([0.55194805, 0.0974026 ]), array([0.15584416, 0.19480519])]\n",
            "[array([0.56493506, 0.08441558]), array([0.16233766, 0.18831169])]\n",
            "[array([0.56493506, 0.08441558]), array([0.15584416, 0.19480519])]\n",
            "[array([0.57142857, 0.07792208]), array([0.16233766, 0.18831169])]\n",
            "[array([0.57142857, 0.07792208]), array([0.16233766, 0.18831169])]\n",
            "[array([0.57792208, 0.07142857]), array([0.16883117, 0.18181818])]\n",
            "[array([0.58441558, 0.06493506]), array([0.15584416, 0.19480519])]\n",
            "[array([0.58441558, 0.06493506]), array([0.16883117, 0.18181818])]\n",
            "[array([0.58441558, 0.06493506]), array([0.16233766, 0.18831169])]\n",
            "[array([0.59090909, 0.05844156]), array([0.15584416, 0.19480519])]\n",
            "[array([0.58441558, 0.06493506]), array([0.15584416, 0.19480519])]\n",
            "[array([0.59090909, 0.05844156]), array([0.15584416, 0.19480519])]\n",
            "[array([0.58441558, 0.06493506]), array([0.15584416, 0.19480519])]\n",
            "[array([0.5974026 , 0.05194805]), array([0.16233766, 0.18831169])]\n",
            "[array([0.59090909, 0.05844156]), array([0.16883117, 0.18181818])]\n",
            "[array([0.5974026 , 0.05194805]), array([0.16883117, 0.18181818])]\n",
            "[array([0.59090909, 0.05844156]), array([0.17532468, 0.17532468])]\n",
            "[array([0.59090909, 0.05844156]), array([0.18181818, 0.16883117])]\n",
            "[array([0.59090909, 0.05844156]), array([0.18181818, 0.16883117])]\n",
            "[array([0.59090909, 0.05844156]), array([0.17532468, 0.17532468])]\n",
            "[array([0.59090909, 0.05844156]), array([0.18181818, 0.16883117])]\n",
            "[array([0.5974026 , 0.05194805]), array([0.18831169, 0.16233766])]\n",
            "[array([0.5974026 , 0.05194805]), array([0.18831169, 0.16233766])]\n",
            "[array([0.5974026 , 0.05194805]), array([0.18831169, 0.16233766])]\n",
            "[array([0.5974026 , 0.05194805]), array([0.18831169, 0.16233766])]\n",
            "[array([0.5974026 , 0.05194805]), array([0.19480519, 0.15584416])]\n",
            "[array([0.5974026 , 0.05194805]), array([0.18831169, 0.16233766])]\n",
            "[array([0.5974026 , 0.05194805]), array([0.18181818, 0.16883117])]\n",
            "[array([0.5974026 , 0.05194805]), array([0.18181818, 0.16883117])]\n",
            "[array([0.5974026 , 0.05194805]), array([0.18181818, 0.16883117])]\n"
          ]
        }
      ]
    },
    {
      "cell_type": "code",
      "metadata": {
        "colab": {
          "base_uri": "https://localhost:8080/",
          "height": 295
        },
        "id": "kNFOlETe_Ehx",
        "outputId": "f5a1714c-034b-4ab2-cb22-a627e8546c0f"
      },
      "source": [
        "pyplot.plot(knn, accuracy, label='accuracy')\n",
        "pyplot.plot(knn, dw_accuracy, label = 'distance weighted accuracy')\n",
        "pyplot.title('KNN accuracy')\n",
        "pyplot.ylabel('accuracy')\n",
        "pyplot.xlabel('k')\n",
        "pyplot.legend(loc='best')\n",
        "pyplot.show()"
      ],
      "execution_count": 27,
      "outputs": [
        {
          "output_type": "display_data",
          "data": {
            "text/plain": [
              "<Figure size 432x288 with 1 Axes>"
            ],
            "image/png": "[encoded data removed]"
          },
          "metadata": {
            "needs_background": "light"
          }
        }
      ]
    },
    {
      "cell_type": "code",
      "source": [
        "pyplot.plot(knn, err, label='error')\n",
        "pyplot.plot(knn, dw_err, label = 'distance weighted error')\n",
        "pyplot.title('KNN learning curve')\n",
        "pyplot.ylabel('error')\n",
        "pyplot.xlabel('k')\n",
        "pyplot.legend(loc='best')\n",
        "pyplot.show()"
      ],
      "metadata": {
        "colab": {
          "base_uri": "https://localhost:8080/",
          "height": 295
        },
        "id": "BJ4cA-SkN3NM",
        "outputId": "d7f7d1d2-3d1a-4354-d765-9a269740470c"
      },
      "execution_count": 28,
      "outputs": [
        {
          "output_type": "display_data",
          "data": {
            "text/plain": [
              "<Figure size 432x288 with 1 Axes>"
            ],
            "image/png": "[encoded data removed]"
          },
          "metadata": {
            "needs_background": "light"
          }
        }
      ]
    }
  ]
}