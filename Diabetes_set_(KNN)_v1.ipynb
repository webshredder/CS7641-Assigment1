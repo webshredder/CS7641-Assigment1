{
  "nbformat": 4,
  "nbformat_minor": 0,
  "metadata": {
    "colab": {
      "name": "Diabetes_set_(kNN )_v1.ipynb",
      "provenance": [],
      "collapsed_sections": []
    },
    "kernelspec": {
      "name": "python3",
      "display_name": "Python 3"
    }
  },
  "cells": [
    {
      "cell_type": "markdown",
      "metadata": {
        "id": "view-in-github"
      },
      "source": [
        "<a href=\"https://colab.research.google.com/github/Anny8910/Decision-Tree-Classification-on-Diabetes-Dataset/blob/master/Diabetes_set_(Decision_tree).ipynb\" target=\"_parent\"><img src=\"https://colab.research.google.com/assets/colab-badge.svg\" alt=\"Open In Colab\"/></a>"
      ]
    },
    {
      "cell_type": "code",
      "metadata": {
        "id": "vU5U2E-eKKdD"
      },
      "source": [
        "#import libraries\n",
        "import pandas as pd\n",
        "import numpy as np\n",
        "from matplotlib import pyplot\n"
      ],
      "execution_count": null,
      "outputs": []
    },
    {
      "cell_type": "code",
      "metadata": {
        "colab": {
          "base_uri": "https://localhost:8080/"
        },
        "id": "oYxNkGrTE2lP",
        "outputId": "bc5c959d-fffb-4557-d376-bc623972e192"
      },
      "source": [
        "# Import dataset file from google drive.  Can upload from local machine or github as an alternative \n",
        "from google.colab import drive\n",
        "drive.mount('/content/drive')"
      ],
      "execution_count": null,
      "outputs": [
        {
          "output_type": "stream",
          "name": "stdout",
          "text": [
            "Mounted at /content/drive\n"
          ]
        }
      ]
    },
    {
      "cell_type": "code",
      "metadata": {
        "id": "FEXnuuWdMBm8",
        "colab": {
          "base_uri": "https://localhost:8080/",
          "height": 204
        },
        "outputId": "0d375d7f-5bb9-4265-94d2-e534ab7c21da"
      },
      "source": [
        "#loading dataset\n",
        "df=pd.read_csv(\"/content/drive/My Drive/Colab Notebooks/diabetes_dataset.csv\")\n",
        "df.head()"
      ],
      "execution_count": null,
      "outputs": [
        {
          "output_type": "execute_result",
          "data": {
            "text/html": [
              "<div>\n",
              "<style scoped>\n",
              "    .dataframe tbody tr th:only-of-type {\n",
              "        vertical-align: middle;\n",
              "    }\n",
              "\n",
              "    .dataframe tbody tr th {\n",
              "        vertical-align: top;\n",
              "    }\n",
              "\n",
              "    .dataframe thead th {\n",
              "        text-align: right;\n",
              "    }\n",
              "</style>\n",
              "<table border=\"1\" class=\"dataframe\">\n",
              "  <thead>\n",
              "    <tr style=\"text-align: right;\">\n",
              "      <th></th>\n",
              "      <th>Pregnancies</th>\n",
              "      <th>Glucose</th>\n",
              "      <th>BloodPressure</th>\n",
              "      <th>SkinThickness</th>\n",
              "      <th>Insulin</th>\n",
              "      <th>BMI</th>\n",
              "      <th>DiabetesPedigreeFunction</th>\n",
              "      <th>Age</th>\n",
              "      <th>Outcome</th>\n",
              "    </tr>\n",
              "  </thead>\n",
              "  <tbody>\n",
              "    <tr>\n",
              "      <th>0</th>\n",
              "      <td>6</td>\n",
              "      <td>148</td>\n",
              "      <td>72</td>\n",
              "      <td>35</td>\n",
              "      <td>0</td>\n",
              "      <td>33.6</td>\n",
              "      <td>0.627</td>\n",
              "      <td>50</td>\n",
              "      <td>1</td>\n",
              "    </tr>\n",
              "    <tr>\n",
              "      <th>1</th>\n",
              "      <td>1</td>\n",
              "      <td>85</td>\n",
              "      <td>66</td>\n",
              "      <td>29</td>\n",
              "      <td>0</td>\n",
              "      <td>26.6</td>\n",
              "      <td>0.351</td>\n",
              "      <td>31</td>\n",
              "      <td>0</td>\n",
              "    </tr>\n",
              "    <tr>\n",
              "      <th>2</th>\n",
              "      <td>8</td>\n",
              "      <td>183</td>\n",
              "      <td>64</td>\n",
              "      <td>0</td>\n",
              "      <td>0</td>\n",
              "      <td>23.3</td>\n",
              "      <td>0.672</td>\n",
              "      <td>32</td>\n",
              "      <td>1</td>\n",
              "    </tr>\n",
              "    <tr>\n",
              "      <th>3</th>\n",
              "      <td>1</td>\n",
              "      <td>89</td>\n",
              "      <td>66</td>\n",
              "      <td>23</td>\n",
              "      <td>94</td>\n",
              "      <td>28.1</td>\n",
              "      <td>0.167</td>\n",
              "      <td>21</td>\n",
              "      <td>0</td>\n",
              "    </tr>\n",
              "    <tr>\n",
              "      <th>4</th>\n",
              "      <td>0</td>\n",
              "      <td>137</td>\n",
              "      <td>40</td>\n",
              "      <td>35</td>\n",
              "      <td>168</td>\n",
              "      <td>43.1</td>\n",
              "      <td>2.288</td>\n",
              "      <td>33</td>\n",
              "      <td>1</td>\n",
              "    </tr>\n",
              "  </tbody>\n",
              "</table>\n",
              "</div>"
            ],
            "text/plain": [
              "   Pregnancies  Glucose  BloodPressure  ...  DiabetesPedigreeFunction  Age  Outcome\n",
              "0            6      148             72  ...                     0.627   50        1\n",
              "1            1       85             66  ...                     0.351   31        0\n",
              "2            8      183             64  ...                     0.672   32        1\n",
              "3            1       89             66  ...                     0.167   21        0\n",
              "4            0      137             40  ...                     2.288   33        1\n",
              "\n",
              "[5 rows x 9 columns]"
            ]
          },
          "metadata": {},
          "execution_count": 35
        }
      ]
    },
    {
      "cell_type": "code",
      "metadata": {
        "id": "ZHDE7n7fMXF1"
      },
      "source": [
        "#feature variables\n",
        "x=df.drop(['Outcome'], axis=1)\n",
        "#target variable\n",
        "y=df.Outcome"
      ],
      "execution_count": null,
      "outputs": []
    },
    {
      "cell_type": "code",
      "metadata": {
        "id": "783jd1sHQyP4"
      },
      "source": [
        "# Import \n",
        "from sklearn import metrics #Import scikit-learn metrics module for accuracy calculation\n",
        "from sklearn.model_selection import train_test_split # Import train_test_split function\n",
        "from sklearn.model_selection import cross_val_score\n",
        "from sklearn.preprocessing import StandardScaler\n",
        "from sklearn.metrics import confusion_matrix\n",
        "from sklearn.neighbors import KNeighborsClassifier\n"
      ],
      "execution_count": null,
      "outputs": []
    },
    {
      "cell_type": "code",
      "metadata": {
        "id": "0LDfxBghi2YC"
      },
      "source": [
        "# Normalize the data and split into train/test sets\n",
        "sc = StandardScaler()\n",
        "xt = sc.fit_transform(x)\n",
        "x_train, x_test, y_train, y_test = train_test_split(xt, y, test_size=0.2, random_state=41)\n"
      ],
      "execution_count": null,
      "outputs": []
    },
    {
      "cell_type": "code",
      "metadata": {
        "id": "SbFmwo7ERWG6",
        "colab": {
          "base_uri": "https://localhost:8080/"
        },
        "outputId": "e35de174-ed3a-4e57-a22f-8fedb2bef3d6"
      },
      "source": [
        "#Loop through k\n",
        "\n",
        "tp, tn, fp, fn =[], [], [], []\n",
        "accuracy = []\n",
        "knn = range(1, 40)\n",
        "\n",
        "for k in knn:\n",
        "      #Create kNN classifer object that votes\n",
        "      model = KNeighborsClassifier(n_neighbors=k)\n",
        "      # fit kNN classifer - \"fit\" here means to memorize the data since kNN is a lazy learner\n",
        "      model = model.fit(x_train,y_train)\n",
        "\n",
        "      #print results\n",
        "      acc = metrics.accuracy_score(y_test,  model.predict(x_test))\n",
        "      accuracy.append(acc)\n",
        "      cm = confusion_matrix(y_test,  model.predict(x_test))\n",
        "      print(list(cm/cm.sum()))\n",
        "\n",
        "\n",
        "\n"
      ],
      "execution_count": null,
      "outputs": [
        {
          "output_type": "stream",
          "name": "stdout",
          "text": [
            "[array([0.51298701, 0.12987013]), array([0.14935065, 0.20779221])]\n",
            "[array([0.6038961 , 0.03896104]), array([0.21428571, 0.14285714])]\n",
            "[array([0.55844156, 0.08441558]), array([0.13636364, 0.22077922])]\n",
            "[array([0.5974026 , 0.04545455]), array([0.19480519, 0.16233766])]\n",
            "[array([0.56493506, 0.07792208]), array([0.15584416, 0.2012987 ])]\n",
            "[array([0.57792208, 0.06493506]), array([0.18831169, 0.16883117])]\n",
            "[array([0.55844156, 0.08441558]), array([0.14285714, 0.21428571])]\n",
            "[array([0.58441558, 0.05844156]), array([0.18181818, 0.17532468])]\n",
            "[array([0.56493506, 0.07792208]), array([0.16883117, 0.18831169])]\n",
            "[array([0.58441558, 0.05844156]), array([0.18831169, 0.16883117])]\n",
            "[array([0.55194805, 0.09090909]), array([0.17532468, 0.18181818])]\n",
            "[array([0.6038961 , 0.03896104]), array([0.18831169, 0.16883117])]\n",
            "[array([0.5974026 , 0.04545455]), array([0.16883117, 0.18831169])]\n",
            "[array([0.61038961, 0.03246753]), array([0.18831169, 0.16883117])]\n",
            "[array([0.58441558, 0.05844156]), array([0.16883117, 0.18831169])]\n",
            "[array([0.6038961 , 0.03896104]), array([0.19480519, 0.16233766])]\n",
            "[array([0.5974026 , 0.04545455]), array([0.18831169, 0.16883117])]\n",
            "[array([0.6038961 , 0.03896104]), array([0.19480519, 0.16233766])]\n",
            "[array([0.6038961 , 0.03896104]), array([0.18831169, 0.16883117])]\n",
            "[array([0.61038961, 0.03246753]), array([0.18831169, 0.16883117])]\n",
            "[array([0.6038961 , 0.03896104]), array([0.18831169, 0.16883117])]\n",
            "[array([0.61688312, 0.02597403]), array([0.2012987 , 0.15584416])]\n",
            "[array([0.6038961 , 0.03896104]), array([0.19480519, 0.16233766])]\n",
            "[array([0.61038961, 0.03246753]), array([0.2012987 , 0.15584416])]\n",
            "[array([0.59090909, 0.05194805]), array([0.2012987 , 0.15584416])]\n",
            "[array([0.6038961 , 0.03896104]), array([0.20779221, 0.14935065])]\n",
            "[array([0.5974026 , 0.04545455]), array([0.19480519, 0.16233766])]\n",
            "[array([0.5974026 , 0.04545455]), array([0.2012987 , 0.15584416])]\n",
            "[array([0.5974026 , 0.04545455]), array([0.2012987 , 0.15584416])]\n",
            "[array([0.6038961 , 0.03896104]), array([0.20779221, 0.14935065])]\n",
            "[array([0.5974026 , 0.04545455]), array([0.19480519, 0.16233766])]\n",
            "[array([0.61038961, 0.03246753]), array([0.2012987 , 0.15584416])]\n",
            "[array([0.6038961 , 0.03896104]), array([0.18831169, 0.16883117])]\n",
            "[array([0.6038961 , 0.03896104]), array([0.19480519, 0.16233766])]\n",
            "[array([0.6038961 , 0.03896104]), array([0.18831169, 0.16883117])]\n",
            "[array([0.61038961, 0.03246753]), array([0.2012987 , 0.15584416])]\n",
            "[array([0.6038961 , 0.03896104]), array([0.19480519, 0.16233766])]\n",
            "[array([0.61038961, 0.03246753]), array([0.20779221, 0.14935065])]\n",
            "[array([0.61038961, 0.03246753]), array([0.20779221, 0.14935065])]\n"
          ]
        }
      ]
    },
    {
      "cell_type": "code",
      "metadata": {
        "colab": {
          "base_uri": "https://localhost:8080/"
        },
        "id": "vPepCTba96RX",
        "outputId": "9366fcb1-b6d9-4841-f027-eec4d2c67ca2"
      },
      "source": [
        "tp, tn, fp, fn =[], [], [], []\n",
        "dw_accuracy = []\n",
        "knn = range(1, 40)\n",
        "\n",
        "for k in knn:\n",
        "      #Create kNN classifer object that votes\n",
        "      model = KNeighborsClassifier(n_neighbors=k, weights='distance')\n",
        "      # fit kNN classifer - \"fit\" here means to memorize the data since kNN is a lazy learner\n",
        "      model = model.fit(x_train,y_train)\n",
        "\n",
        "      #print results\n",
        "      acc = metrics.accuracy_score(y_test,  model.predict(x_test))\n",
        "      dw_accuracy.append(acc)\n",
        "      cm = confusion_matrix(y_test,  model.predict(x_test))\n",
        "      print(list(cm/cm.sum()))\n",
        "\n",
        "\n"
      ],
      "execution_count": null,
      "outputs": [
        {
          "output_type": "stream",
          "name": "stdout",
          "text": [
            "[array([0.51298701, 0.12987013]), array([0.14935065, 0.20779221])]\n",
            "[array([0.51298701, 0.12987013]), array([0.14935065, 0.20779221])]\n",
            "[array([0.55844156, 0.08441558]), array([0.13636364, 0.22077922])]\n",
            "[array([0.56493506, 0.07792208]), array([0.14285714, 0.21428571])]\n",
            "[array([0.56493506, 0.07792208]), array([0.15584416, 0.2012987 ])]\n",
            "[array([0.57142857, 0.07142857]), array([0.14935065, 0.20779221])]\n",
            "[array([0.55844156, 0.08441558]), array([0.14285714, 0.21428571])]\n",
            "[array([0.57142857, 0.07142857]), array([0.14935065, 0.20779221])]\n",
            "[array([0.57142857, 0.07142857]), array([0.16233766, 0.19480519])]\n",
            "[array([0.56493506, 0.07792208]), array([0.14935065, 0.20779221])]\n",
            "[array([0.55194805, 0.09090909]), array([0.16233766, 0.19480519])]\n",
            "[array([0.57792208, 0.06493506]), array([0.16233766, 0.19480519])]\n",
            "[array([0.58441558, 0.05844156]), array([0.15584416, 0.2012987 ])]\n",
            "[array([0.57792208, 0.06493506]), array([0.17532468, 0.18181818])]\n",
            "[array([0.58441558, 0.05844156]), array([0.16883117, 0.18831169])]\n",
            "[array([0.59090909, 0.05194805]), array([0.16883117, 0.18831169])]\n",
            "[array([0.59090909, 0.05194805]), array([0.16883117, 0.18831169])]\n",
            "[array([0.5974026 , 0.04545455]), array([0.16883117, 0.18831169])]\n",
            "[array([0.5974026 , 0.04545455]), array([0.18181818, 0.17532468])]\n",
            "[array([0.6038961 , 0.03896104]), array([0.18181818, 0.17532468])]\n",
            "[array([0.6038961 , 0.03896104]), array([0.18181818, 0.17532468])]\n",
            "[array([0.61038961, 0.03246753]), array([0.18181818, 0.17532468])]\n",
            "[array([0.6038961 , 0.03896104]), array([0.18181818, 0.17532468])]\n",
            "[array([0.5974026 , 0.04545455]), array([0.18831169, 0.16883117])]\n",
            "[array([0.59090909, 0.05194805]), array([0.19480519, 0.16233766])]\n",
            "[array([0.6038961 , 0.03896104]), array([0.19480519, 0.16233766])]\n",
            "[array([0.6038961 , 0.03896104]), array([0.18831169, 0.16883117])]\n",
            "[array([0.5974026 , 0.04545455]), array([0.19480519, 0.16233766])]\n",
            "[array([0.5974026 , 0.04545455]), array([0.19480519, 0.16233766])]\n",
            "[array([0.59090909, 0.05194805]), array([0.2012987 , 0.15584416])]\n",
            "[array([0.59090909, 0.05194805]), array([0.19480519, 0.16233766])]\n",
            "[array([0.59090909, 0.05194805]), array([0.19480519, 0.16233766])]\n",
            "[array([0.6038961 , 0.03896104]), array([0.18181818, 0.17532468])]\n",
            "[array([0.5974026 , 0.04545455]), array([0.18831169, 0.16883117])]\n",
            "[array([0.6038961 , 0.03896104]), array([0.18181818, 0.17532468])]\n",
            "[array([0.59090909, 0.05194805]), array([0.19480519, 0.16233766])]\n",
            "[array([0.6038961 , 0.03896104]), array([0.19480519, 0.16233766])]\n",
            "[array([0.61038961, 0.03246753]), array([0.19480519, 0.16233766])]\n",
            "[array([0.61038961, 0.03246753]), array([0.18831169, 0.16883117])]\n"
          ]
        }
      ]
    },
    {
      "cell_type": "code",
      "metadata": {
        "colab": {
          "base_uri": "https://localhost:8080/",
          "height": 295
        },
        "id": "kNFOlETe_Ehx",
        "outputId": "0b90887e-34e0-4117-8ace-f4da3e6dd64a"
      },
      "source": [
        "pyplot.plot(knn, accuracy, label='accuracy')\n",
        "pyplot.plot(knn, dw_accuracy, label = 'distance weighted accuracy')\n",
        "pyplot.title('KNN accuracy - orignal dataset')\n",
        "pyplot.ylabel('accuracy')\n",
        "pyplot.xlabel('k')\n",
        "pyplot.legend(loc='best')\n",
        "pyplot.show()"
      ],
      "execution_count": null,
      "outputs": [
        {
          "output_type": "display_data",
          "data": {
            "image/png": "[encoded data removed]",
            "text/plain": [
              "<Figure size 432x288 with 1 Axes>"
            ]
          },
          "metadata": {
            "needs_background": "light"
          }
        }
      ]
    }
  ]
}