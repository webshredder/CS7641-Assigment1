{
  "nbformat": 4,
  "nbformat_minor": 0,
  "metadata": {
    "colab": {
      "name": "Diabetes_set_(SVM )_v2.ipynb",
      "provenance": [],
      "collapsed_sections": []
    },
    "kernelspec": {
      "name": "python3",
      "display_name": "Python 3"
    }
  },
  "cells": [
    {
      "cell_type": "markdown",
      "metadata": {
        "id": "view-in-github"
      },
      "source": [
        "<a href=\"https://colab.research.google.com/github/Anny8910/Decision-Tree-Classification-on-Diabetes-Dataset/blob/master/Diabetes_set_(Decision_tree).ipynb\" target=\"_parent\"><img src=\"https://colab.research.google.com/assets/colab-badge.svg\" alt=\"Open In Colab\"/></a>"
      ]
    },
    {
      "cell_type": "code",
      "metadata": {
        "id": "vU5U2E-eKKdD"
      },
      "source": [
        "#import libraries\n",
        "import pandas as pd\n",
        "import numpy as np\n",
        "from matplotlib import pyplot\n",
        "\n"
      ],
      "execution_count": 1,
      "outputs": []
    },
    {
      "cell_type": "code",
      "metadata": {
        "colab": {
          "base_uri": "https://localhost:8080/"
        },
        "id": "oYxNkGrTE2lP",
        "outputId": "1da3bfbb-5d63-46af-deea-705d706a9a28"
      },
      "source": [
        "# Import dataset file from google drive.  Can upload from local machine or github as an alternative \n",
        "from google.colab import drive\n",
        "drive.mount('/content/drive')"
      ],
      "execution_count": 2,
      "outputs": [
        {
          "output_type": "stream",
          "name": "stdout",
          "text": [
            "Mounted at /content/drive\n"
          ]
        }
      ]
    },
    {
      "cell_type": "code",
      "metadata": {
        "id": "FEXnuuWdMBm8",
        "colab": {
          "base_uri": "https://localhost:8080/",
          "height": 204
        },
        "outputId": "d374006a-ada9-48cc-90a1-0279e6343e48"
      },
      "source": [
        "#loading dataset\n",
        "df=pd.read_csv(\"/content/drive/My Drive/Colab Notebooks/diabetes_dataset.csv\")\n",
        "df.head()"
      ],
      "execution_count": 24,
      "outputs": [
        {
          "output_type": "execute_result",
          "data": {
            "text/html": [
              "<div>\n",
              "<style scoped>\n",
              "    .dataframe tbody tr th:only-of-type {\n",
              "        vertical-align: middle;\n",
              "    }\n",
              "\n",
              "    .dataframe tbody tr th {\n",
              "        vertical-align: top;\n",
              "    }\n",
              "\n",
              "    .dataframe thead th {\n",
              "        text-align: right;\n",
              "    }\n",
              "</style>\n",
              "<table border=\"1\" class=\"dataframe\">\n",
              "  <thead>\n",
              "    <tr style=\"text-align: right;\">\n",
              "      <th></th>\n",
              "      <th>Pregnancies</th>\n",
              "      <th>Glucose</th>\n",
              "      <th>BloodPressure</th>\n",
              "      <th>SkinThickness</th>\n",
              "      <th>Insulin</th>\n",
              "      <th>BMI</th>\n",
              "      <th>DiabetesPedigreeFunction</th>\n",
              "      <th>Age</th>\n",
              "      <th>Outcome</th>\n",
              "    </tr>\n",
              "  </thead>\n",
              "  <tbody>\n",
              "    <tr>\n",
              "      <th>0</th>\n",
              "      <td>6</td>\n",
              "      <td>148</td>\n",
              "      <td>72</td>\n",
              "      <td>35</td>\n",
              "      <td>0</td>\n",
              "      <td>33.6</td>\n",
              "      <td>0.627</td>\n",
              "      <td>50</td>\n",
              "      <td>1</td>\n",
              "    </tr>\n",
              "    <tr>\n",
              "      <th>1</th>\n",
              "      <td>1</td>\n",
              "      <td>85</td>\n",
              "      <td>66</td>\n",
              "      <td>29</td>\n",
              "      <td>0</td>\n",
              "      <td>26.6</td>\n",
              "      <td>0.351</td>\n",
              "      <td>31</td>\n",
              "      <td>0</td>\n",
              "    </tr>\n",
              "    <tr>\n",
              "      <th>2</th>\n",
              "      <td>8</td>\n",
              "      <td>183</td>\n",
              "      <td>64</td>\n",
              "      <td>0</td>\n",
              "      <td>0</td>\n",
              "      <td>23.3</td>\n",
              "      <td>0.672</td>\n",
              "      <td>32</td>\n",
              "      <td>1</td>\n",
              "    </tr>\n",
              "    <tr>\n",
              "      <th>3</th>\n",
              "      <td>1</td>\n",
              "      <td>89</td>\n",
              "      <td>66</td>\n",
              "      <td>23</td>\n",
              "      <td>94</td>\n",
              "      <td>28.1</td>\n",
              "      <td>0.167</td>\n",
              "      <td>21</td>\n",
              "      <td>0</td>\n",
              "    </tr>\n",
              "    <tr>\n",
              "      <th>4</th>\n",
              "      <td>0</td>\n",
              "      <td>137</td>\n",
              "      <td>40</td>\n",
              "      <td>35</td>\n",
              "      <td>168</td>\n",
              "      <td>43.1</td>\n",
              "      <td>2.288</td>\n",
              "      <td>33</td>\n",
              "      <td>1</td>\n",
              "    </tr>\n",
              "  </tbody>\n",
              "</table>\n",
              "</div>"
            ],
            "text/plain": [
              "   Pregnancies  Glucose  BloodPressure  ...  DiabetesPedigreeFunction  Age  Outcome\n",
              "0            6      148             72  ...                     0.627   50        1\n",
              "1            1       85             66  ...                     0.351   31        0\n",
              "2            8      183             64  ...                     0.672   32        1\n",
              "3            1       89             66  ...                     0.167   21        0\n",
              "4            0      137             40  ...                     2.288   33        1\n",
              "\n",
              "[5 rows x 9 columns]"
            ]
          },
          "metadata": {},
          "execution_count": 24
        }
      ]
    },
    {
      "cell_type": "code",
      "metadata": {
        "id": "ZHDE7n7fMXF1"
      },
      "source": [
        "#feature variables\n",
        "x=df.drop(['Outcome'], axis=1)\n",
        "#target variable\n",
        "y=df.Outcome"
      ],
      "execution_count": 17,
      "outputs": []
    },
    {
      "cell_type": "code",
      "metadata": {
        "id": "783jd1sHQyP4"
      },
      "source": [
        "# Import \n",
        "from sklearn import metrics #Import scikit-learn metrics module for accuracy calculation\n",
        "from sklearn.model_selection import train_test_split # Import train_test_split function\n",
        "from sklearn.model_selection import cross_val_score\n",
        "from sklearn.metrics import confusion_matrix\n",
        "from sklearn import svm\n"
      ],
      "execution_count": 18,
      "outputs": []
    },
    {
      "cell_type": "code",
      "metadata": {
        "id": "0LDfxBghi2YC"
      },
      "source": [
        "# Split the dataset into training set and test set\n",
        "x_train, x_test, y_train, y_test = train_test_split(x, y, test_size=0.2, random_state=3)"
      ],
      "execution_count": 21,
      "outputs": []
    },
    {
      "cell_type": "code",
      "metadata": {
        "id": "SbFmwo7ERWG6",
        "colab": {
          "base_uri": "https://localhost:8080/",
          "height": 1000
        },
        "outputId": "30270042-8116-49de-aff9-58943d803878"
      },
      "source": [
        "#Loop through the different kernels\n",
        "kernels = ['linear', 'rbf', 'poly']\n",
        "Cs = [1, 0.75, 0.5, 0.25, 0.1, 0.07, 0.05, 0.03, 0.01, 0.004]\n",
        "\n",
        "for mykernel in kernals:\n",
        "   #optional soft margin parameter ; soft margin = 1 means no soft margin.\n",
        "   train_acc=[]\n",
        "   test_acc=[]\n",
        "   for i in range(len(Cs)):\n",
        "      #Create SVM classifer object\n",
        "      model = svm.SVC(kernel=mykernel, C=Cs[i])\n",
        "      # Train SVM Classifer\n",
        "      model = model.fit(x_train,y_train)\n",
        "\n",
        "      #print results\n",
        "      train_acc.append(metrics.accuracy_score(y_train,  model.predict(x_train)))\n",
        "      test_acc.append(metrics.accuracy_score(y_test,  model.predict(x_test)))\n",
        "      print(mykernel,\" kernel train acc: \", train_acc[i], \" test acc: \", test_acc[i])\n",
        "      cm=confusion_matrix(y_test, model.predict(x_test))\n",
        "      print(\"     confusion matrix:\", list(cm/cm.sum()))\n",
        "\n",
        "   #plot results\n",
        "   pyplot.plot(Cs, train_acc, label='Train')\n",
        "   pyplot.plot(Cs, test_acc, label='Test')\n",
        "   pyplot.title('SVM accuracy '+mykernel )\n",
        "   pyplot.ylabel('accuracy')\n",
        "   pyplot.xlabel('C')\n",
        "   pyplot.legend(loc='best')\n",
        "   pyplot.show()\n"
      ],
      "execution_count": 23,
      "outputs": [
        {
          "output_type": "stream",
          "name": "stdout",
          "text": [
            "linear  kernel train acc:  0.7833876221498371  test acc:  0.7272727272727273\n",
            "     confusion matrix: [array([0.51298701, 0.08441558]), array([0.18831169, 0.21428571])]\n",
            "linear  kernel train acc:  0.7833876221498371  test acc:  0.7337662337662337\n",
            "     confusion matrix: [array([0.51298701, 0.08441558]), array([0.18181818, 0.22077922])]\n",
            "linear  kernel train acc:  0.7833876221498371  test acc:  0.7337662337662337\n",
            "     confusion matrix: [array([0.51298701, 0.08441558]), array([0.18181818, 0.22077922])]\n",
            "linear  kernel train acc:  0.7833876221498371  test acc:  0.7337662337662337\n",
            "     confusion matrix: [array([0.51298701, 0.08441558]), array([0.18181818, 0.22077922])]\n",
            "linear  kernel train acc:  0.7833876221498371  test acc:  0.7272727272727273\n",
            "     confusion matrix: [array([0.50649351, 0.09090909]), array([0.18181818, 0.22077922])]\n",
            "linear  kernel train acc:  0.7833876221498371  test acc:  0.7272727272727273\n",
            "     confusion matrix: [array([0.50649351, 0.09090909]), array([0.18181818, 0.22077922])]\n",
            "linear  kernel train acc:  0.7850162866449512  test acc:  0.7337662337662337\n",
            "     confusion matrix: [array([0.50649351, 0.09090909]), array([0.17532468, 0.22727273])]\n",
            "linear  kernel train acc:  0.7817589576547231  test acc:  0.7337662337662337\n",
            "     confusion matrix: [array([0.50649351, 0.09090909]), array([0.17532468, 0.22727273])]\n",
            "linear  kernel train acc:  0.7801302931596091  test acc:  0.7337662337662337\n",
            "     confusion matrix: [array([0.50649351, 0.09090909]), array([0.17532468, 0.22727273])]\n",
            "linear  kernel train acc:  0.7801302931596091  test acc:  0.7207792207792207\n",
            "     confusion matrix: [array([0.5      , 0.0974026]), array([0.18181818, 0.22077922])]\n"
          ]
        },
        {
          "output_type": "display_data",
          "data": {
            "image/png": "[encoded data removed]",
            "text/plain": [
              "<Figure size 432x288 with 1 Axes>"
            ]
          },
          "metadata": {
            "needs_background": "light"
          }
        },
        {
          "output_type": "stream",
          "name": "stdout",
          "text": [
            "rbf  kernel train acc:  0.7899022801302932  test acc:  0.6883116883116883\n",
            "     confusion matrix: [array([0.52597403, 0.07142857]), array([0.24025974, 0.16233766])]\n",
            "rbf  kernel train acc:  0.7833876221498371  test acc:  0.6753246753246753\n",
            "     confusion matrix: [array([0.52597403, 0.07142857]), array([0.25324675, 0.14935065])]\n",
            "rbf  kernel train acc:  0.7817589576547231  test acc:  0.6753246753246753\n",
            "     confusion matrix: [array([0.51948052, 0.07792208]), array([0.24675325, 0.15584416])]\n",
            "rbf  kernel train acc:  0.7703583061889251  test acc:  0.6688311688311688\n",
            "     confusion matrix: [array([0.52597403, 0.07142857]), array([0.25974026, 0.14285714])]\n",
            "rbf  kernel train acc:  0.6986970684039088  test acc:  0.6103896103896104\n",
            "     confusion matrix: [array([0.57792208, 0.01948052]), array([0.37012987, 0.03246753])]\n",
            "rbf  kernel train acc:  0.6644951140065146  test acc:  0.5974025974025974\n",
            "     confusion matrix: [array([0.5974026, 0.       ]), array([0.4025974, 0.       ])]\n",
            "rbf  kernel train acc:  0.6644951140065146  test acc:  0.5974025974025974\n",
            "     confusion matrix: [array([0.5974026, 0.       ]), array([0.4025974, 0.       ])]\n",
            "rbf  kernel train acc:  0.6644951140065146  test acc:  0.5974025974025974\n",
            "     confusion matrix: [array([0.5974026, 0.       ]), array([0.4025974, 0.       ])]\n",
            "rbf  kernel train acc:  0.6644951140065146  test acc:  0.5974025974025974\n",
            "     confusion matrix: [array([0.5974026, 0.       ]), array([0.4025974, 0.       ])]\n",
            "rbf  kernel train acc:  0.6644951140065146  test acc:  0.5974025974025974\n",
            "     confusion matrix: [array([0.5974026, 0.       ]), array([0.4025974, 0.       ])]\n"
          ]
        },
        {
          "output_type": "display_data",
          "data": {
            "image/png": "[encoded data removed]",
            "text/plain": [
              "<Figure size 432x288 with 1 Axes>"
            ]
          },
          "metadata": {
            "needs_background": "light"
          }
        },
        {
          "output_type": "stream",
          "name": "stdout",
          "text": [
            "poly  kernel train acc:  0.7947882736156352  test acc:  0.6883116883116883\n",
            "     confusion matrix: [array([0.53246753, 0.06493506]), array([0.24675325, 0.15584416])]\n",
            "poly  kernel train acc:  0.7866449511400652  test acc:  0.6948051948051948\n",
            "     confusion matrix: [array([0.53896104, 0.05844156]), array([0.24675325, 0.15584416])]\n",
            "poly  kernel train acc:  0.7850162866449512  test acc:  0.6818181818181818\n",
            "     confusion matrix: [array([0.53896104, 0.05844156]), array([0.25974026, 0.14285714])]\n",
            "poly  kernel train acc:  0.7801302931596091  test acc:  0.6753246753246753\n",
            "     confusion matrix: [array([0.53246753, 0.06493506]), array([0.25974026, 0.14285714])]\n",
            "poly  kernel train acc:  0.7801302931596091  test acc:  0.6948051948051948\n",
            "     confusion matrix: [array([0.55194805, 0.04545455]), array([0.25974026, 0.14285714])]\n",
            "poly  kernel train acc:  0.7703583061889251  test acc:  0.6818181818181818\n",
            "     confusion matrix: [array([0.54545455, 0.05194805]), array([0.26623377, 0.13636364])]\n",
            "poly  kernel train acc:  0.7638436482084691  test acc:  0.6818181818181818\n",
            "     confusion matrix: [array([0.54545455, 0.05194805]), array([0.26623377, 0.13636364])]\n",
            "poly  kernel train acc:  0.750814332247557  test acc:  0.6818181818181818\n",
            "     confusion matrix: [array([0.56493506, 0.03246753]), array([0.28571429, 0.11688312])]\n",
            "poly  kernel train acc:  0.7084690553745928  test acc:  0.6428571428571429\n",
            "     confusion matrix: [array([0.58441558, 0.01298701]), array([0.34415584, 0.05844156])]\n",
            "poly  kernel train acc:  0.6856677524429967  test acc:  0.5974025974025974\n",
            "     confusion matrix: [array([0.58441558, 0.01298701]), array([0.38961039, 0.01298701])]\n"
          ]
        },
        {
          "output_type": "display_data",
          "data": {
            "image/png": "[encoded data removed]",
            "text/plain": [
              "<Figure size 432x288 with 1 Axes>"
            ]
          },
          "metadata": {
            "needs_background": "light"
          }
        }
      ]
    }
  ]
}